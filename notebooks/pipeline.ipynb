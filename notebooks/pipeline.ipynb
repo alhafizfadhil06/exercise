{
 "cells": [
  {
   "cell_type": "code",
   "execution_count": 1,
   "metadata": {},
   "outputs": [
    {
     "name": "stdout",
     "output_type": "stream",
     "text": [
      "init was called!\n"
     ]
    }
   ],
   "source": [
    "import numpy as np\n",
    "import pandas as pd\n",
    "import matplotlib.pyplot as plt\n",
    "import seaborn as sns\n",
    "import sklearn\n",
    "\n",
    "from sklearn.model_selection import train_test_split\n",
    "from sklearn.preprocessing import StandardScaler\n",
    "from imblearn.over_sampling import SMOTE\n",
    "\n",
    "from sklearn.tree import DecisionTreeClassifier\n",
    "from sklearn.metrics import accuracy_score, f1_score\n",
    "\n",
    "from sklearn.impute import SimpleImputer\n",
    "from sklearn.pipeline import Pipeline\n",
    "from sklearn.compose import ColumnTransformer\n",
    "from sklearn import set_config\n",
    "\n",
    "from ipynb.fs.full.function import *\n",
    "\n",
    "\n",
    "used_columns = [\"Age\",\"Potential\", \"Finishing\", \"Dribbling\", \"ShortPassing\", \"LongPassing\", \"Acceleration\",\n",
    "                \"SprintSpeed\", \"Jumping\", \"Strength\", \"Wage\", \"Stamina\", \"Positioning\", \"Aggression\"]\n",
    "\n",
    "data_path = \"D:\\Works\\PAMA\\exercise\\datasets\\FIFA23_official_data\\FIFA21_official_data.csv\"\n",
    "\n",
    "random_state = 42\n",
    "\n",
    "pipe1 = Pipeline(steps=[\n",
    "    ('impute', SimpleImputer(strategy='mean')),\n",
    "    ('scale',StandardScaler())\n",
    "])\n",
    "\n",
    "col_trans = ColumnTransformer(transformers=[\n",
    "    ('pipeline 1', pipe1, used_columns)\n",
    "    ],\n",
    "    remainder='passthrough',\n",
    "    n_jobs=-1)\n",
    "\n",
    "clf = DecisionTreeClassifier()\n",
    "\n",
    "clf_pipeline = Pipeline(steps=[\n",
    "    ('preprocess', Preprocessor()),\n",
    "    ('column transformation', col_trans),\n",
    "    ('model', clf)\n",
    "])\n",
    "\n",
    "# set_config(display='diagram')\n",
    "# display(clf_pipeline)"
   ]
  }
 ],
 "metadata": {
  "kernelspec": {
   "display_name": "Python 3",
   "language": "python",
   "name": "python3"
  },
  "language_info": {
   "codemirror_mode": {
    "name": "ipython",
    "version": 3
   },
   "file_extension": ".py",
   "mimetype": "text/x-python",
   "name": "python",
   "nbconvert_exporter": "python",
   "pygments_lexer": "ipython3",
   "version": "3.10.11"
  }
 },
 "nbformat": 4,
 "nbformat_minor": 2
}
